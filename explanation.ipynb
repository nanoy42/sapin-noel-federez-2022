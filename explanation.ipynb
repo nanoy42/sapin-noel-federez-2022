{
 "cells": [
  {
   "cell_type": "markdown",
   "metadata": {},
   "source": [
    "# How to generate a tree from single photons\n",
    "\n",
    "In this some tutorial we well see how to use single photons and the [perceval](https://perceval.quandela.net/) simulation software to plot a Christmas tree.\n",
    "\n",
    "This is based on the idea that single-photons act as qubit and that by applying some gates. we can tweak the probability of observing photons in different positions at the end of a circuit. Plotting this spatial probability allows to plot drawings."
   ]
  },
  {
   "cell_type": "markdown",
   "metadata": {},
   "source": [
    "First let's import and configure the packages\n"
   ]
  },
  {
   "cell_type": "code",
   "execution_count": 1,
   "metadata": {},
   "outputs": [],
   "source": [
    "import perceval as pcvl\n",
    "import numpy as np\n",
    "import matplotlib.pyplot as plt\n",
    "from perceval.components.unitary_components import BS, PERM\n",
    "from perceval.rendering.circuit import DisplayConfig, SymbSkin\n",
    "\n",
    "DisplayConfig.select_skin(SymbSkin)"
   ]
  },
  {
   "cell_type": "markdown",
   "metadata": {},
   "source": [
    "## One-mode circuit\n",
    "\n",
    "Let's generate a circuit with a single spatial mode, i.e. only one possible position for the photon. We will here consider lossless interactions so we don't loose photons."
   ]
  },
  {
   "cell_type": "code",
   "execution_count": 7,
   "metadata": {},
   "outputs": [
    {
     "data": {
      "image/svg+xml": "<?xml version=\"1.0\" encoding=\"UTF-8\"?>\n<svg xmlns=\"http://www.w3.org/2000/svg\" xmlns:xlink=\"http://www.w3.org/1999/xlink\"\n     width=\"187.5\" height=\"125.0\" viewBox=\"-28.0 0 150 100\">\n<defs>\n</defs>\n<path d=\"M10,25 L25,25\" stroke-width=\"1\" stroke=\"black\" stroke-linejoin=\"miter\" fill=\"none\" />\n<path d=\"M25,25 L40,25\" stroke-width=\"1\" stroke=\"black\" stroke-linejoin=\"miter\" fill=\"none\" />\n<text x=\"50\" y=\"28\" font-size=\"6\" text-anchor=\"end\" dy=\"0em\">0</text>\n<text x=\"0\" y=\"28\" font-size=\"6\" text-anchor=\"start\" dy=\"0em\">0</text>\n</svg>",
      "text/plain": [
       "<drawSvg.drawing.Drawing at 0x7fb7f3120c40>"
      ]
     },
     "execution_count": 7,
     "metadata": {},
     "output_type": "execute_result"
    }
   ],
   "source": [
    "circuit_one_mode = pcvl.Circuit(1)\n",
    "\n",
    "pcvl.pdisplay(circuit_one_mode)"
   ]
  },
  {
   "cell_type": "markdown",
   "metadata": {},
   "source": [
    "Now let's input some photons at the spatial mode 0 and see where we observe the photons at the output. For that we will send 1000 single photons and look where our detectors click at the end.\n"
   ]
  },
  {
   "cell_type": "code",
   "execution_count": 8,
   "metadata": {},
   "outputs": [
    {
     "name": "stdout",
     "output_type": "stream",
     "text": [
      "{\n",
      "  |1>: 1000\n",
      "}\n"
     ]
    }
   ],
   "source": [
    "p = pcvl.Processor(\"SLOS\", circuit_one_mode)\n",
    "p.with_input(pcvl.BasicState([1]))\n",
    "sampler = pcvl.algorithm.Sampler(p)\n",
    "sample_count = sampler.sample_count(1000)\n",
    "print(sample_count[\"results\"])"
   ]
  },
  {
   "cell_type": "markdown",
   "metadata": {
    "tags": []
   },
   "source": [
    "As expected all our photons are found in the only possible spatial mode. Now let's go to 2-mode circuits.\n"
   ]
  },
  {
   "cell_type": "markdown",
   "metadata": {},
   "source": [
    "## 2-mode circuits\n",
    "\n",
    "Let's now take a 2-mode circuit. We will still only input photon, but we can now use some kind of optical components that will act as qubits to have more interesting behaviors."
   ]
  },
  {
   "cell_type": "code",
   "execution_count": 13,
   "metadata": {},
   "outputs": [
    {
     "data": {
      "image/svg+xml": "<?xml version=\"1.0\" encoding=\"UTF-8\"?>\n<svg xmlns=\"http://www.w3.org/2000/svg\" xmlns:xlink=\"http://www.w3.org/1999/xlink\"\n     width=\"187.5\" height=\"187.5\" viewBox=\"-28.0 0 150 150\">\n<defs>\n</defs>\n<path d=\"M10,25 L25,25\" stroke-width=\"1\" stroke=\"black\" stroke-linejoin=\"miter\" fill=\"none\" />\n<path d=\"M10,75 L25,75\" stroke-width=\"1\" stroke=\"black\" stroke-linejoin=\"miter\" fill=\"none\" />\n<path d=\"M25,25 L40,25\" stroke-width=\"1\" stroke=\"black\" stroke-linejoin=\"miter\" fill=\"none\" />\n<path d=\"M25,75 L40,75\" stroke-width=\"1\" stroke=\"black\" stroke-linejoin=\"miter\" fill=\"none\" />\n<text x=\"50\" y=\"28\" font-size=\"6\" text-anchor=\"end\" dy=\"0em\">0</text>\n<text x=\"50\" y=\"78\" font-size=\"6\" text-anchor=\"end\" dy=\"0em\">1</text>\n<text x=\"0\" y=\"28\" font-size=\"6\" text-anchor=\"start\" dy=\"0em\">0</text>\n<text x=\"0\" y=\"78\" font-size=\"6\" text-anchor=\"start\" dy=\"0em\">1</text>\n</svg>",
      "text/plain": [
       "<drawSvg.drawing.Drawing at 0x7fb7f2d82590>"
      ]
     },
     "execution_count": 13,
     "metadata": {},
     "output_type": "execute_result"
    }
   ],
   "source": [
    "circuit_two_modes = pcvl.Circuit(2)\n",
    "\n",
    "pcvl.pdisplay(circuit_two_modes)"
   ]
  },
  {
   "cell_type": "markdown",
   "metadata": {},
   "source": [
    "Just taking the default circuit and if I input a photon in mode 0, everything still goes in output mode 0."
   ]
  },
  {
   "cell_type": "code",
   "execution_count": 11,
   "metadata": {},
   "outputs": [
    {
     "name": "stdout",
     "output_type": "stream",
     "text": [
      "{\n",
      "  |1,0>: 1000\n",
      "}\n"
     ]
    }
   ],
   "source": [
    "p = pcvl.Processor(\"SLOS\", circuit_two_modes)\n",
    "p.with_input(pcvl.BasicState([1,0]))\n",
    "sampler = pcvl.algorithm.Sampler(p)\n",
    "sample_count = sampler.sample_count(1000)\n",
    "print(sample_count[\"results\"])\n"
   ]
  },
  {
   "cell_type": "markdown",
   "metadata": {},
   "source": [
    "Please note here that |1,0> means one photon in the first spatial mode and 0 in the second.\n",
    "\n",
    "Let's now add a beam splitter, which is a component that mixes two optical paths. As the single photon can be split, it will take one of the output paths, randomly, and the balance of probability depends on the the characteristics of the beam splitter. For a balanced beam splitter, the probability is 1/2 - 1/2 but we can also consider biased beam splitters."
   ]
  },
  {
   "cell_type": "code",
   "execution_count": 14,
   "metadata": {},
   "outputs": [
    {
     "data": {
      "image/svg+xml": "<?xml version=\"1.0\" encoding=\"UTF-8\"?>\n<svg xmlns=\"http://www.w3.org/2000/svg\" xmlns:xlink=\"http://www.w3.org/1999/xlink\"\n     width=\"312.5\" height=\"187.5\" viewBox=\"-28.0 0 250 150\">\n<defs>\n</defs>\n<path d=\"M10,25 L25,25\" stroke-width=\"1\" stroke=\"black\" stroke-linejoin=\"miter\" fill=\"none\" />\n<path d=\"M10,75 L25,75\" stroke-width=\"1\" stroke=\"black\" stroke-linejoin=\"miter\" fill=\"none\" />\n<path d=\"M37.9442,25.0002 C51.653800000000004,25.0002,51.5923,50.0,65.3019,50.0 M65.3038,50.0 C51.59219999999999,50.0,51.6538,74.9998,37.94409999999999,74.9998 M65.3038,49.99999999999999 L87.1884,49.99999999999999 M87.1884,49.99999999999999 C100.9,49.99999999999999,100.83840000000001,25.000199999999992,114.5481,25.000199999999992 M87.1884,49.99999999999999 C100.9,49.99999999999999,100.83840000000001,74.9998,114.5481,74.9998 M25.0,24.999999999999993 L38.0,24.999999999999993 M38.0019,74.9998 L25.0,74.9998 M112.6453,74.9998 L125.0,74.9998 M112.1944,24.999799999999993 L125.0,24.999799999999993\" stroke-width=\"1\" stroke=\"black\" stroke-linejoin=\"miter\" fill=\"none\" />\n<text x=\"75\" y=\"38\" font-size=\"7\" text-anchor=\"middle\" dy=\"0em\"></text>\n<path d=\"M97,53 L107,53 L107,63 L97,63 Z\" stroke=\"black\" fill=\"thistle\" stroke-linejoin=\"miter\" />\n<text x=\"102\" y=\"60\" font-size=\"6\" text-anchor=\"middle\" dy=\"0em\">Rx</text>\n<path d=\"M125,25 L140,25\" stroke-width=\"1\" stroke=\"black\" stroke-linejoin=\"miter\" fill=\"none\" />\n<path d=\"M125,75 L140,75\" stroke-width=\"1\" stroke=\"black\" stroke-linejoin=\"miter\" fill=\"none\" />\n<text x=\"150\" y=\"28\" font-size=\"6\" text-anchor=\"end\" dy=\"0em\">0</text>\n<text x=\"150\" y=\"78\" font-size=\"6\" text-anchor=\"end\" dy=\"0em\">1</text>\n<text x=\"0\" y=\"28\" font-size=\"6\" text-anchor=\"start\" dy=\"0em\">0</text>\n<text x=\"0\" y=\"78\" font-size=\"6\" text-anchor=\"start\" dy=\"0em\">1</text>\n</svg>",
      "text/plain": [
       "<drawSvg.drawing.Drawing at 0x7fb7f2ee3430>"
      ]
     },
     "execution_count": 14,
     "metadata": {},
     "output_type": "execute_result"
    }
   ],
   "source": [
    "circuit_two_modes_balanced_bs = pcvl.Circuit(2)\n",
    "\n",
    "circuit_two_modes_balanced_bs.add(0, BS())\n",
    "\n",
    "pcvl.pdisplay(circuit_two_modes_balanced_bs)\n"
   ]
  },
  {
   "cell_type": "code",
   "execution_count": 15,
   "metadata": {},
   "outputs": [
    {
     "name": "stdout",
     "output_type": "stream",
     "text": [
      "{\n",
      "  |1,0>: 495\n",
      "  |0,1>: 505\n",
      "}\n"
     ]
    }
   ],
   "source": [
    "p = pcvl.Processor(\"SLOS\", circuit_two_modes_balanced_bs)\n",
    "p.with_input(pcvl.BasicState([1,0]))\n",
    "sampler = pcvl.algorithm.Sampler(p)\n",
    "sample_count = sampler.sample_count(1000)\n",
    "print(sample_count[\"results\"])\n"
   ]
  },
  {
   "cell_type": "markdown",
   "metadata": {},
   "source": [
    "Now we see we get roughly 50% of the state |1,0> which means 1 photon in the first mode and 0 and in the second mode, i.e. the photon took the upper path and 50% for the state |0,1> which means 0 photon in the first mode and 1 in the second mode, which means the photon took the bottom path.\n",
    "\n",
    "Note that the Rx displayed on the figure is called the convention of the beam splitter.\n",
    "\n",
    "Let's now consider a beam splitter with 10% chance to take the upper path and 90% to take the bottom path."
   ]
  },
  {
   "cell_type": "code",
   "execution_count": 16,
   "metadata": {},
   "outputs": [
    {
     "data": {
      "image/svg+xml": "<?xml version=\"1.0\" encoding=\"UTF-8\"?>\n<svg xmlns=\"http://www.w3.org/2000/svg\" xmlns:xlink=\"http://www.w3.org/1999/xlink\"\n     width=\"312.5\" height=\"187.5\" viewBox=\"-28.0 0 250 150\">\n<defs>\n</defs>\n<path d=\"M10,25 L25,25\" stroke-width=\"1\" stroke=\"black\" stroke-linejoin=\"miter\" fill=\"none\" />\n<path d=\"M10,75 L25,75\" stroke-width=\"1\" stroke=\"black\" stroke-linejoin=\"miter\" fill=\"none\" />\n<path d=\"M37.9442,25.0002 C51.653800000000004,25.0002,51.5923,50.0,65.3019,50.0 M65.3038,50.0 C51.59219999999999,50.0,51.6538,74.9998,37.94409999999999,74.9998 M65.3038,49.99999999999999 L87.1884,49.99999999999999 M87.1884,49.99999999999999 C100.9,49.99999999999999,100.83840000000001,25.000199999999992,114.5481,25.000199999999992 M87.1884,49.99999999999999 C100.9,49.99999999999999,100.83840000000001,74.9998,114.5481,74.9998 M25.0,24.999999999999993 L38.0,24.999999999999993 M38.0019,74.9998 L25.0,74.9998 M112.6453,74.9998 L125.0,74.9998 M112.1944,24.999799999999993 L125.0,24.999799999999993\" stroke-width=\"1\" stroke=\"black\" stroke-linejoin=\"miter\" fill=\"none\" />\n<text x=\"75\" y=\"38\" font-size=\"7\" text-anchor=\"middle\" dy=\"0em\">Θ=2.498092</text>\n<path d=\"M97,53 L107,53 L107,63 L97,63 Z\" stroke=\"black\" fill=\"thistle\" stroke-linejoin=\"miter\" />\n<text x=\"102\" y=\"60\" font-size=\"6\" text-anchor=\"middle\" dy=\"0em\">Rx</text>\n<path d=\"M125,25 L140,25\" stroke-width=\"1\" stroke=\"black\" stroke-linejoin=\"miter\" fill=\"none\" />\n<path d=\"M125,75 L140,75\" stroke-width=\"1\" stroke=\"black\" stroke-linejoin=\"miter\" fill=\"none\" />\n<text x=\"150\" y=\"28\" font-size=\"6\" text-anchor=\"end\" dy=\"0em\">0</text>\n<text x=\"150\" y=\"78\" font-size=\"6\" text-anchor=\"end\" dy=\"0em\">1</text>\n<text x=\"0\" y=\"28\" font-size=\"6\" text-anchor=\"start\" dy=\"0em\">0</text>\n<text x=\"0\" y=\"78\" font-size=\"6\" text-anchor=\"start\" dy=\"0em\">1</text>\n</svg>",
      "text/plain": [
       "<drawSvg.drawing.Drawing at 0x7fb7f2d8ba60>"
      ]
     },
     "execution_count": 16,
     "metadata": {},
     "output_type": "execute_result"
    }
   ],
   "source": [
    "circuit_two_modes_biased_bs = pcvl.Circuit(2)\n",
    "\n",
    "circuit_two_modes_biased_bs.add(0, BS(BS.r_to_theta(0.1)))\n",
    "\n",
    "pcvl.pdisplay(circuit_two_modes_biased_bs)\n"
   ]
  },
  {
   "cell_type": "code",
   "execution_count": 24,
   "metadata": {},
   "outputs": [
    {
     "name": "stdout",
     "output_type": "stream",
     "text": [
      "{\n",
      "  |1,0>: 100\n",
      "  |0,1>: 900\n",
      "}\n"
     ]
    }
   ],
   "source": [
    "p = pcvl.Processor(\"SLOS\", circuit_two_modes_biased_bs)\n",
    "p.with_input(pcvl.BasicState([1,0]))\n",
    "sampler = pcvl.algorithm.Sampler(p)\n",
    "sample_count = sampler.sample_count(1000)\n",
    "print(sample_count[\"results\"])"
   ]
  },
  {
   "cell_type": "markdown",
   "metadata": {},
   "source": [
    "Now we see that the state |1,0> has probability 10% and state |0,1> has probability 90%.\n"
   ]
  },
  {
   "cell_type": "markdown",
   "metadata": {},
   "source": [
    "But how can we use this to plot a Christmas tree ? Let's consider this 3 circuits and put the probability in a matrix. Each row in the matrix will corresponds to one circuit (the first row will be the two-mode circuits, the second with balanced beam splitter and the third with biased beam splitter) and each column will correspond to a spatial mode (the first column will correspond for the photon to be in the first spatial mode, i.e. the state |1,0> and the second column, to be in the second spatial mode, i.e. the state |0,1>). Here I will input the theoretical probabilities but in practice we will use the measured statistics with the simulation of the quantum chip."
   ]
  },
  {
   "cell_type": "code",
   "execution_count": 21,
   "metadata": {},
   "outputs": [
    {
     "data": {
      "text/plain": [
       "<matplotlib.colorbar.Colorbar at 0x7fb7f3522890>"
      ]
     },
     "execution_count": 21,
     "metadata": {},
     "output_type": "execute_result"
    },
    {
     "data": {
      "image/png": "[encoded data removed]",
      "text/plain": [
       "<Figure size 640x480 with 2 Axes>"
      ]
     },
     "metadata": {},
     "output_type": "display_data"
    }
   ],
   "source": [
    "matrix = np.array([\n",
    "    [1, 0],\n",
    "    [0.5, 0.5],\n",
    "    [0.1, 0.9]\n",
    "])\n",
    "\n",
    "plt.figure()\n",
    "plt.imshow(\n",
    "    matrix, cmap=\"Greens\", interpolation=\"nearest\"\n",
    ")\n",
    "plt.colorbar()"
   ]
  },
  {
   "cell_type": "markdown",
   "metadata": {},
   "source": [
    "So we see that with very simple concepts, we are already able to plot some drawings. Now the goal will be to increase the number of spatial modes, and also to control what we draw."
   ]
  },
  {
   "cell_type": "markdown",
   "metadata": {},
   "source": [
    "## Drawing diagonal lines\n",
    "\n",
    "What we want to do is to be able to draw diagonal lines, to plot cones. For that let's take an odd number of modes, let's say 11."
   ]
  },
  {
   "cell_type": "markdown",
   "metadata": {},
   "source": [
    "First let's define a small utility code that will analyze results to put them into the matrix. For each states at the output (i.e. for each possible recorded positions of the photon) it will put in the corresponding column the number of observations, for a given line."
   ]
  },
  {
   "cell_type": "code",
   "execution_count": 30,
   "metadata": {},
   "outputs": [],
   "source": [
    "def update_matrix(matrix, results, line):\n",
    "    for k, v in results.items():\n",
    "        for i, t in enumerate(k):\n",
    "            if t:\n",
    "                matrix[line][i] = v\n",
    "\n",
    "\n",
    "matrix = np.zeros((11, 11))"
   ]
  },
  {
   "cell_type": "code",
   "execution_count": 31,
   "metadata": {},
   "outputs": [],
   "source": [
    "circuit_diagonals = pcvl.Circuit(11)"
   ]
  },
  {
   "cell_type": "markdown",
   "metadata": {},
   "source": [
    "For symmetry purposes, we will input the photon in the 5 spatial modes. Let's do our first line by just inputting this one and no optical components."
   ]
  },
  {
   "cell_type": "code",
   "execution_count": 32,
   "metadata": {},
   "outputs": [
    {
     "name": "stdout",
     "output_type": "stream",
     "text": [
      "[[   0.    0.    0.    0.    0. 1000.    0.    0.    0.    0.    0.]\n",
      " [   0.    0.    0.    0.    0.    0.    0.    0.    0.    0.    0.]\n",
      " [   0.    0.    0.    0.    0.    0.    0.    0.    0.    0.    0.]\n",
      " [   0.    0.    0.    0.    0.    0.    0.    0.    0.    0.    0.]\n",
      " [   0.    0.    0.    0.    0.    0.    0.    0.    0.    0.    0.]\n",
      " [   0.    0.    0.    0.    0.    0.    0.    0.    0.    0.    0.]\n",
      " [   0.    0.    0.    0.    0.    0.    0.    0.    0.    0.    0.]\n",
      " [   0.    0.    0.    0.    0.    0.    0.    0.    0.    0.    0.]\n",
      " [   0.    0.    0.    0.    0.    0.    0.    0.    0.    0.    0.]\n",
      " [   0.    0.    0.    0.    0.    0.    0.    0.    0.    0.    0.]\n",
      " [   0.    0.    0.    0.    0.    0.    0.    0.    0.    0.    0.]]\n"
     ]
    }
   ],
   "source": [
    "p = pcvl.Processor(\"SLOS\", circuit_diagonals)\n",
    "p.with_input(pcvl.BasicState([0,0,0,0,0,1,0,0,0,0,0]))\n",
    "sampler = pcvl.algorithm.Sampler(p)\n",
    "sample_count = sampler.sample_count(1000)\n",
    "update_matrix(matrix, sample_count[\"results\"], 0)\n",
    "print(matrix)"
   ]
  },
  {
   "cell_type": "markdown",
   "metadata": {},
   "source": [
    "Now let's add a beam splitter. We will take a balanced beam splitter, between mode 5 and 6. However this will not be very symmetrical as an output. We will tackle this issue with a permutation. Let's say we have three modes 0 1 and 2. The permutation [2, 1 , 0] will send the 0 mode to the 2 mode, the 1 mode to the 1 mode and the 2 mode to the 0 mode, effectively swapping 0 and 2. We can implement a swap between modes 4 and 5 so at the end our distribution is on modes 4 and 6 which is more symmetrical.\n"
   ]
  },
  {
   "cell_type": "code",
   "execution_count": 33,
   "metadata": {},
   "outputs": [
    {
     "data": {
      "image/svg+xml": "<?xml version=\"1.0\" encoding=\"UTF-8\"?>\n<svg xmlns=\"http://www.w3.org/2000/svg\" xmlns:xlink=\"http://www.w3.org/1999/xlink\"\n     width=\"375.0\" height=\"750.0\" viewBox=\"-35.0 0 300 600\">\n<defs>\n</defs>\n<path d=\"M10,25 L25,25\" stroke-width=\"1\" stroke=\"black\" stroke-linejoin=\"miter\" fill=\"none\" />\n<path d=\"M10,75 L25,75\" stroke-width=\"1\" stroke=\"black\" stroke-linejoin=\"miter\" fill=\"none\" />\n<path d=\"M10,125 L25,125\" stroke-width=\"1\" stroke=\"black\" stroke-linejoin=\"miter\" fill=\"none\" />\n<path d=\"M10,175 L25,175\" stroke-width=\"1\" stroke=\"black\" stroke-linejoin=\"miter\" fill=\"none\" />\n<path d=\"M10,225 L25,225\" stroke-width=\"1\" stroke=\"black\" stroke-linejoin=\"miter\" fill=\"none\" />\n<path d=\"M10,275 L25,275\" stroke-width=\"1\" stroke=\"black\" stroke-linejoin=\"miter\" fill=\"none\" />\n<path d=\"M10,325 L25,325\" stroke-width=\"1\" stroke=\"black\" stroke-linejoin=\"miter\" fill=\"none\" />\n<path d=\"M10,375 L25,375\" stroke-width=\"1\" stroke=\"black\" stroke-linejoin=\"miter\" fill=\"none\" />\n<path d=\"M10,425 L25,425\" stroke-width=\"1\" stroke=\"black\" stroke-linejoin=\"miter\" fill=\"none\" />\n<path d=\"M10,475 L25,475\" stroke-width=\"1\" stroke=\"black\" stroke-linejoin=\"miter\" fill=\"none\" />\n<path d=\"M10,525 L25,525\" stroke-width=\"1\" stroke=\"black\" stroke-linejoin=\"miter\" fill=\"none\" />\n<path d=\"M37.9442,275.0002 C51.653800000000004,275.0002,51.5923,300.0,65.3019,300.0 M65.3038,300.0 C51.59219999999999,300.0,51.6538,324.9998,37.94409999999999,324.9998 M65.3038,300.0 L87.1884,300.0 M87.1884,300.0 C100.9,300.0,100.83840000000001,275.0002,114.5481,275.0002 M87.1884,300.0 C100.9,300.0,100.83840000000001,324.9998,114.5481,324.9998 M25.0,275.0 L38.0,275.0 M38.0019,324.9998 L25.0,324.9998 M112.6453,324.9998 L125.0,324.9998 M112.1944,274.9998 L125.0,274.9998\" stroke-width=\"1\" stroke=\"black\" stroke-linejoin=\"miter\" fill=\"none\" />\n<text x=\"75\" y=\"288\" font-size=\"7\" text-anchor=\"middle\" dy=\"0em\"></text>\n<path d=\"M97,303 L107,303 L107,313 L97,313 Z\" stroke=\"black\" fill=\"thistle\" stroke-linejoin=\"miter\" />\n<text x=\"102\" y=\"310\" font-size=\"6\" text-anchor=\"middle\" dy=\"0em\">Rx</text>\n<path d=\"M25,225 L125,225\" stroke=\"black\" stroke-width=\"1\" fill=\"none\" />\n<path d=\"M125,224.8 C145,225,155,275,175,275\" stroke-width=\"2\" stroke=\"white\" stroke-linejoin=\"miter\" fill=\"none\" />\n<path d=\"M125,225 C145,225,155,275,175,275\" stroke-width=\"1\" stroke=\"black\" stroke-linejoin=\"miter\" fill=\"none\" />\n<path d=\"M125,274.8 C145,275,155,225,175,225\" stroke-width=\"2\" stroke=\"white\" stroke-linejoin=\"miter\" fill=\"none\" />\n<path d=\"M125,275 C145,275,155,225,175,225\" stroke-width=\"1\" stroke=\"black\" stroke-linejoin=\"miter\" fill=\"none\" />\n<path d=\"M25,25 L175,25\" stroke=\"black\" stroke-width=\"1\" fill=\"none\" />\n<path d=\"M25,75 L175,75\" stroke=\"black\" stroke-width=\"1\" fill=\"none\" />\n<path d=\"M25,125 L175,125\" stroke=\"black\" stroke-width=\"1\" fill=\"none\" />\n<path d=\"M25,175 L175,175\" stroke=\"black\" stroke-width=\"1\" fill=\"none\" />\n<path d=\"M125,325 L175,325\" stroke=\"black\" stroke-width=\"1\" fill=\"none\" />\n<path d=\"M25,375 L175,375\" stroke=\"black\" stroke-width=\"1\" fill=\"none\" />\n<path d=\"M25,425 L175,425\" stroke=\"black\" stroke-width=\"1\" fill=\"none\" />\n<path d=\"M25,475 L175,475\" stroke=\"black\" stroke-width=\"1\" fill=\"none\" />\n<path d=\"M25,525 L175,525\" stroke=\"black\" stroke-width=\"1\" fill=\"none\" />\n<path d=\"M175,25 L190,25\" stroke-width=\"1\" stroke=\"black\" stroke-linejoin=\"miter\" fill=\"none\" />\n<path d=\"M175,75 L190,75\" stroke-width=\"1\" stroke=\"black\" stroke-linejoin=\"miter\" fill=\"none\" />\n<path d=\"M175,125 L190,125\" stroke-width=\"1\" stroke=\"black\" stroke-linejoin=\"miter\" fill=\"none\" />\n<path d=\"M175,175 L190,175\" stroke-width=\"1\" stroke=\"black\" stroke-linejoin=\"miter\" fill=\"none\" />\n<path d=\"M175,225 L190,225\" stroke-width=\"1\" stroke=\"black\" stroke-linejoin=\"miter\" fill=\"none\" />\n<path d=\"M175,275 L190,275\" stroke-width=\"1\" stroke=\"black\" stroke-linejoin=\"miter\" fill=\"none\" />\n<path d=\"M175,325 L190,325\" stroke-width=\"1\" stroke=\"black\" stroke-linejoin=\"miter\" fill=\"none\" />\n<path d=\"M175,375 L190,375\" stroke-width=\"1\" stroke=\"black\" stroke-linejoin=\"miter\" fill=\"none\" />\n<path d=\"M175,425 L190,425\" stroke-width=\"1\" stroke=\"black\" stroke-linejoin=\"miter\" fill=\"none\" />\n<path d=\"M175,475 L190,475\" stroke-width=\"1\" stroke=\"black\" stroke-linejoin=\"miter\" fill=\"none\" />\n<path d=\"M175,525 L190,525\" stroke-width=\"1\" stroke=\"black\" stroke-linejoin=\"miter\" fill=\"none\" />\n<text x=\"200\" y=\"28\" font-size=\"10\" text-anchor=\"end\" dy=\"0em\">0</text>\n<text x=\"200\" y=\"78\" font-size=\"10\" text-anchor=\"end\" dy=\"0em\">1</text>\n<text x=\"200\" y=\"128\" font-size=\"10\" text-anchor=\"end\" dy=\"0em\">2</text>\n<text x=\"200\" y=\"178\" font-size=\"10\" text-anchor=\"end\" dy=\"0em\">3</text>\n<text x=\"200\" y=\"228\" font-size=\"10\" text-anchor=\"end\" dy=\"0em\">4</text>\n<text x=\"200\" y=\"278\" font-size=\"10\" text-anchor=\"end\" dy=\"0em\">5</text>\n<text x=\"200\" y=\"328\" font-size=\"10\" text-anchor=\"end\" dy=\"0em\">6</text>\n<text x=\"200\" y=\"378\" font-size=\"10\" text-anchor=\"end\" dy=\"0em\">7</text>\n<text x=\"200\" y=\"428\" font-size=\"10\" text-anchor=\"end\" dy=\"0em\">8</text>\n<text x=\"200\" y=\"478\" font-size=\"10\" text-anchor=\"end\" dy=\"0em\">9</text>\n<text x=\"200\" y=\"528\" font-size=\"10\" text-anchor=\"end\" dy=\"0em\">10</text>\n<text x=\"0\" y=\"28\" font-size=\"10\" text-anchor=\"start\" dy=\"0em\">0</text>\n<text x=\"0\" y=\"78\" font-size=\"10\" text-anchor=\"start\" dy=\"0em\">1</text>\n<text x=\"0\" y=\"128\" font-size=\"10\" text-anchor=\"start\" dy=\"0em\">2</text>\n<text x=\"0\" y=\"178\" font-size=\"10\" text-anchor=\"start\" dy=\"0em\">3</text>\n<text x=\"0\" y=\"228\" font-size=\"10\" text-anchor=\"start\" dy=\"0em\">4</text>\n<text x=\"0\" y=\"278\" font-size=\"10\" text-anchor=\"start\" dy=\"0em\">5</text>\n<text x=\"0\" y=\"328\" font-size=\"10\" text-anchor=\"start\" dy=\"0em\">6</text>\n<text x=\"0\" y=\"378\" font-size=\"10\" text-anchor=\"start\" dy=\"0em\">7</text>\n<text x=\"0\" y=\"428\" font-size=\"10\" text-anchor=\"start\" dy=\"0em\">8</text>\n<text x=\"0\" y=\"478\" font-size=\"10\" text-anchor=\"start\" dy=\"0em\">9</text>\n<text x=\"0\" y=\"528\" font-size=\"10\" text-anchor=\"start\" dy=\"0em\">10</text>\n</svg>",
      "text/plain": [
       "<drawSvg.drawing.Drawing at 0x7fb7f24225c0>"
      ]
     },
     "execution_count": 33,
     "metadata": {},
     "output_type": "execute_result"
    }
   ],
   "source": [
    "circuit_diagonals.add(5, BS())\n",
    "circuit_diagonals.add(4, PERM([1,0]))\n",
    "\n",
    "pcvl.pdisplay(circuit_diagonals)"
   ]
  },
  {
   "cell_type": "code",
   "execution_count": 34,
   "metadata": {},
   "outputs": [
    {
     "name": "stdout",
     "output_type": "stream",
     "text": [
      "[[   0.    0.    0.    0.    0. 1000.    0.    0.    0.    0.    0.]\n",
      " [   0.    0.    0.    0.  508.    0.  492.    0.    0.    0.    0.]\n",
      " [   0.    0.    0.    0.    0.    0.    0.    0.    0.    0.    0.]\n",
      " [   0.    0.    0.    0.    0.    0.    0.    0.    0.    0.    0.]\n",
      " [   0.    0.    0.    0.    0.    0.    0.    0.    0.    0.    0.]\n",
      " [   0.    0.    0.    0.    0.    0.    0.    0.    0.    0.    0.]\n",
      " [   0.    0.    0.    0.    0.    0.    0.    0.    0.    0.    0.]\n",
      " [   0.    0.    0.    0.    0.    0.    0.    0.    0.    0.    0.]\n",
      " [   0.    0.    0.    0.    0.    0.    0.    0.    0.    0.    0.]\n",
      " [   0.    0.    0.    0.    0.    0.    0.    0.    0.    0.    0.]\n",
      " [   0.    0.    0.    0.    0.    0.    0.    0.    0.    0.    0.]]\n"
     ]
    }
   ],
   "source": [
    "p = pcvl.Processor(\"SLOS\", circuit_diagonals)\n",
    "p.with_input(pcvl.BasicState([0,0,0,0,0,1,0,0,0,0,0]))\n",
    "sampler = pcvl.algorithm.Sampler(p)\n",
    "sample_count = sampler.sample_count(1000)\n",
    "update_matrix(matrix, sample_count[\"results\"], 1)\n",
    "print(matrix)"
   ]
  },
  {
   "cell_type": "markdown",
   "metadata": {},
   "source": [
    "The tree starts to appear ! How can we continue the diagonal ? Starting back with the same circuit we can add a permutation between mode 3 and 4 and 6 and 7.\n"
   ]
  },
  {
   "cell_type": "code",
   "execution_count": 35,
   "metadata": {},
   "outputs": [
    {
     "data": {
      "image/svg+xml": "<?xml version=\"1.0\" encoding=\"UTF-8\"?>\n<svg xmlns=\"http://www.w3.org/2000/svg\" xmlns:xlink=\"http://www.w3.org/1999/xlink\"\n     width=\"437.5\" height=\"750.0\" viewBox=\"-35.0 0 350 600\">\n<defs>\n</defs>\n<path d=\"M10,25 L25,25\" stroke-width=\"1\" stroke=\"black\" stroke-linejoin=\"miter\" fill=\"none\" />\n<path d=\"M10,75 L25,75\" stroke-width=\"1\" stroke=\"black\" stroke-linejoin=\"miter\" fill=\"none\" />\n<path d=\"M10,125 L25,125\" stroke-width=\"1\" stroke=\"black\" stroke-linejoin=\"miter\" fill=\"none\" />\n<path d=\"M10,175 L25,175\" stroke-width=\"1\" stroke=\"black\" stroke-linejoin=\"miter\" fill=\"none\" />\n<path d=\"M10,225 L25,225\" stroke-width=\"1\" stroke=\"black\" stroke-linejoin=\"miter\" fill=\"none\" />\n<path d=\"M10,275 L25,275\" stroke-width=\"1\" stroke=\"black\" stroke-linejoin=\"miter\" fill=\"none\" />\n<path d=\"M10,325 L25,325\" stroke-width=\"1\" stroke=\"black\" stroke-linejoin=\"miter\" fill=\"none\" />\n<path d=\"M10,375 L25,375\" stroke-width=\"1\" stroke=\"black\" stroke-linejoin=\"miter\" fill=\"none\" />\n<path d=\"M10,425 L25,425\" stroke-width=\"1\" stroke=\"black\" stroke-linejoin=\"miter\" fill=\"none\" />\n<path d=\"M10,475 L25,475\" stroke-width=\"1\" stroke=\"black\" stroke-linejoin=\"miter\" fill=\"none\" />\n<path d=\"M10,525 L25,525\" stroke-width=\"1\" stroke=\"black\" stroke-linejoin=\"miter\" fill=\"none\" />\n<path d=\"M37.9442,275.0002 C51.653800000000004,275.0002,51.5923,300.0,65.3019,300.0 M65.3038,300.0 C51.59219999999999,300.0,51.6538,324.9998,37.94409999999999,324.9998 M65.3038,300.0 L87.1884,300.0 M87.1884,300.0 C100.9,300.0,100.83840000000001,275.0002,114.5481,275.0002 M87.1884,300.0 C100.9,300.0,100.83840000000001,324.9998,114.5481,324.9998 M25.0,275.0 L38.0,275.0 M38.0019,324.9998 L25.0,324.9998 M112.6453,324.9998 L125.0,324.9998 M112.1944,274.9998 L125.0,274.9998\" stroke-width=\"1\" stroke=\"black\" stroke-linejoin=\"miter\" fill=\"none\" />\n<text x=\"75\" y=\"288\" font-size=\"7\" text-anchor=\"middle\" dy=\"0em\"></text>\n<path d=\"M97,303 L107,303 L107,313 L97,313 Z\" stroke=\"black\" fill=\"thistle\" stroke-linejoin=\"miter\" />\n<text x=\"102\" y=\"310\" font-size=\"6\" text-anchor=\"middle\" dy=\"0em\">Rx</text>\n<path d=\"M25,225 L125,225\" stroke=\"black\" stroke-width=\"1\" fill=\"none\" />\n<path d=\"M125,224.8 C145,225,155,275,175,275\" stroke-width=\"2\" stroke=\"white\" stroke-linejoin=\"miter\" fill=\"none\" />\n<path d=\"M125,225 C145,225,155,275,175,275\" stroke-width=\"1\" stroke=\"black\" stroke-linejoin=\"miter\" fill=\"none\" />\n<path d=\"M125,274.8 C145,275,155,225,175,225\" stroke-width=\"2\" stroke=\"white\" stroke-linejoin=\"miter\" fill=\"none\" />\n<path d=\"M125,275 C145,275,155,225,175,225\" stroke-width=\"1\" stroke=\"black\" stroke-linejoin=\"miter\" fill=\"none\" />\n<path d=\"M25,175 L175,175\" stroke=\"black\" stroke-width=\"1\" fill=\"none\" />\n<path d=\"M175,174.8 C195,175,205,225,225,225\" stroke-width=\"2\" stroke=\"white\" stroke-linejoin=\"miter\" fill=\"none\" />\n<path d=\"M175,175 C195,175,205,225,225,225\" stroke-width=\"1\" stroke=\"black\" stroke-linejoin=\"miter\" fill=\"none\" />\n<path d=\"M175,224.8 C195,225,205,175,225,175\" stroke-width=\"2\" stroke=\"white\" stroke-linejoin=\"miter\" fill=\"none\" />\n<path d=\"M175,225 C195,225,205,175,225,175\" stroke-width=\"1\" stroke=\"black\" stroke-linejoin=\"miter\" fill=\"none\" />\n<path d=\"M25,375 L125,375\" stroke=\"black\" stroke-width=\"1\" fill=\"none\" />\n<path d=\"M125,324.8 C145,325,155,375,175,375\" stroke-width=\"2\" stroke=\"white\" stroke-linejoin=\"miter\" fill=\"none\" />\n<path d=\"M125,325 C145,325,155,375,175,375\" stroke-width=\"1\" stroke=\"black\" stroke-linejoin=\"miter\" fill=\"none\" />\n<path d=\"M125,374.8 C145,375,155,325,175,325\" stroke-width=\"2\" stroke=\"white\" stroke-linejoin=\"miter\" fill=\"none\" />\n<path d=\"M125,375 C145,375,155,325,175,325\" stroke-width=\"1\" stroke=\"black\" stroke-linejoin=\"miter\" fill=\"none\" />\n<path d=\"M25,25 L225,25\" stroke=\"black\" stroke-width=\"1\" fill=\"none\" />\n<path d=\"M25,75 L225,75\" stroke=\"black\" stroke-width=\"1\" fill=\"none\" />\n<path d=\"M25,125 L225,125\" stroke=\"black\" stroke-width=\"1\" fill=\"none\" />\n<path d=\"M175,275 L225,275\" stroke=\"black\" stroke-width=\"1\" fill=\"none\" />\n<path d=\"M175,325 L225,325\" stroke=\"black\" stroke-width=\"1\" fill=\"none\" />\n<path d=\"M175,375 L225,375\" stroke=\"black\" stroke-width=\"1\" fill=\"none\" />\n<path d=\"M25,425 L225,425\" stroke=\"black\" stroke-width=\"1\" fill=\"none\" />\n<path d=\"M25,475 L225,475\" stroke=\"black\" stroke-width=\"1\" fill=\"none\" />\n<path d=\"M25,525 L225,525\" stroke=\"black\" stroke-width=\"1\" fill=\"none\" />\n<path d=\"M225,25 L240,25\" stroke-width=\"1\" stroke=\"black\" stroke-linejoin=\"miter\" fill=\"none\" />\n<path d=\"M225,75 L240,75\" stroke-width=\"1\" stroke=\"black\" stroke-linejoin=\"miter\" fill=\"none\" />\n<path d=\"M225,125 L240,125\" stroke-width=\"1\" stroke=\"black\" stroke-linejoin=\"miter\" fill=\"none\" />\n<path d=\"M225,175 L240,175\" stroke-width=\"1\" stroke=\"black\" stroke-linejoin=\"miter\" fill=\"none\" />\n<path d=\"M225,225 L240,225\" stroke-width=\"1\" stroke=\"black\" stroke-linejoin=\"miter\" fill=\"none\" />\n<path d=\"M225,275 L240,275\" stroke-width=\"1\" stroke=\"black\" stroke-linejoin=\"miter\" fill=\"none\" />\n<path d=\"M225,325 L240,325\" stroke-width=\"1\" stroke=\"black\" stroke-linejoin=\"miter\" fill=\"none\" />\n<path d=\"M225,375 L240,375\" stroke-width=\"1\" stroke=\"black\" stroke-linejoin=\"miter\" fill=\"none\" />\n<path d=\"M225,425 L240,425\" stroke-width=\"1\" stroke=\"black\" stroke-linejoin=\"miter\" fill=\"none\" />\n<path d=\"M225,475 L240,475\" stroke-width=\"1\" stroke=\"black\" stroke-linejoin=\"miter\" fill=\"none\" />\n<path d=\"M225,525 L240,525\" stroke-width=\"1\" stroke=\"black\" stroke-linejoin=\"miter\" fill=\"none\" />\n<text x=\"250\" y=\"28\" font-size=\"10\" text-anchor=\"end\" dy=\"0em\">0</text>\n<text x=\"250\" y=\"78\" font-size=\"10\" text-anchor=\"end\" dy=\"0em\">1</text>\n<text x=\"250\" y=\"128\" font-size=\"10\" text-anchor=\"end\" dy=\"0em\">2</text>\n<text x=\"250\" y=\"178\" font-size=\"10\" text-anchor=\"end\" dy=\"0em\">3</text>\n<text x=\"250\" y=\"228\" font-size=\"10\" text-anchor=\"end\" dy=\"0em\">4</text>\n<text x=\"250\" y=\"278\" font-size=\"10\" text-anchor=\"end\" dy=\"0em\">5</text>\n<text x=\"250\" y=\"328\" font-size=\"10\" text-anchor=\"end\" dy=\"0em\">6</text>\n<text x=\"250\" y=\"378\" font-size=\"10\" text-anchor=\"end\" dy=\"0em\">7</text>\n<text x=\"250\" y=\"428\" font-size=\"10\" text-anchor=\"end\" dy=\"0em\">8</text>\n<text x=\"250\" y=\"478\" font-size=\"10\" text-anchor=\"end\" dy=\"0em\">9</text>\n<text x=\"250\" y=\"528\" font-size=\"10\" text-anchor=\"end\" dy=\"0em\">10</text>\n<text x=\"0\" y=\"28\" font-size=\"10\" text-anchor=\"start\" dy=\"0em\">0</text>\n<text x=\"0\" y=\"78\" font-size=\"10\" text-anchor=\"start\" dy=\"0em\">1</text>\n<text x=\"0\" y=\"128\" font-size=\"10\" text-anchor=\"start\" dy=\"0em\">2</text>\n<text x=\"0\" y=\"178\" font-size=\"10\" text-anchor=\"start\" dy=\"0em\">3</text>\n<text x=\"0\" y=\"228\" font-size=\"10\" text-anchor=\"start\" dy=\"0em\">4</text>\n<text x=\"0\" y=\"278\" font-size=\"10\" text-anchor=\"start\" dy=\"0em\">5</text>\n<text x=\"0\" y=\"328\" font-size=\"10\" text-anchor=\"start\" dy=\"0em\">6</text>\n<text x=\"0\" y=\"378\" font-size=\"10\" text-anchor=\"start\" dy=\"0em\">7</text>\n<text x=\"0\" y=\"428\" font-size=\"10\" text-anchor=\"start\" dy=\"0em\">8</text>\n<text x=\"0\" y=\"478\" font-size=\"10\" text-anchor=\"start\" dy=\"0em\">9</text>\n<text x=\"0\" y=\"528\" font-size=\"10\" text-anchor=\"start\" dy=\"0em\">10</text>\n</svg>",
      "text/plain": [
       "<drawSvg.drawing.Drawing at 0x7fb7f24226b0>"
      ]
     },
     "execution_count": 35,
     "metadata": {},
     "output_type": "execute_result"
    }
   ],
   "source": [
    "circuit_diagonals.add(3, PERM([1,0]))\n",
    "circuit_diagonals.add(6, PERM([1,0]))\n",
    "pcvl.pdisplay(circuit_diagonals)\n"
   ]
  },
  {
   "cell_type": "code",
   "execution_count": 36,
   "metadata": {},
   "outputs": [
    {
     "name": "stdout",
     "output_type": "stream",
     "text": [
      "[[   0.    0.    0.    0.    0. 1000.    0.    0.    0.    0.    0.]\n",
      " [   0.    0.    0.    0.  508.    0.  492.    0.    0.    0.    0.]\n",
      " [   0.    0.    0.  518.    0.    0.    0.  482.    0.    0.    0.]\n",
      " [   0.    0.    0.    0.    0.    0.    0.    0.    0.    0.    0.]\n",
      " [   0.    0.    0.    0.    0.    0.    0.    0.    0.    0.    0.]\n",
      " [   0.    0.    0.    0.    0.    0.    0.    0.    0.    0.    0.]\n",
      " [   0.    0.    0.    0.    0.    0.    0.    0.    0.    0.    0.]\n",
      " [   0.    0.    0.    0.    0.    0.    0.    0.    0.    0.    0.]\n",
      " [   0.    0.    0.    0.    0.    0.    0.    0.    0.    0.    0.]\n",
      " [   0.    0.    0.    0.    0.    0.    0.    0.    0.    0.    0.]\n",
      " [   0.    0.    0.    0.    0.    0.    0.    0.    0.    0.    0.]]\n"
     ]
    }
   ],
   "source": [
    "p = pcvl.Processor(\"SLOS\", circuit_diagonals)\n",
    "p.with_input(pcvl.BasicState([0,0,0,0,0,1,0,0,0,0,0]))\n",
    "sampler = pcvl.algorithm.Sampler(p)\n",
    "sample_count = sampler.sample_count(1000)\n",
    "update_matrix(matrix, sample_count[\"results\"], 2)\n",
    "print(matrix)"
   ]
  },
  {
   "cell_type": "markdown",
   "metadata": {},
   "source": [
    "Nice ! We can continue this scheme to create diagonals. We will come back to it later, after we see how to create straight lines."
   ]
  },
  {
   "cell_type": "markdown",
   "metadata": {},
   "source": [
    "## Plotting straight lines\n",
    "\n",
    "Before, we wanted to have only two possible modes as output. Now is a bit more tricky because we want to have more than 2 outputs. Using balanced beam splitter, and good arrangements we can have the power of two as number of output modes : 2, 4, 8, etc... but if we want to have any number we have to use biased beam splitters.\n",
    "\n",
    "Let's say we want to have $n$ outputs, on the mode 0 to $n-1$. WHat we want is then to have each output with probability 1/n. We can use the first beam splitter on modes 0 and 1 with probability $\\frac{1}{n}$ to go to 0 and $1-\\frac{1}{n}$ to go to 1. Then we add a biased beam splitter on modes 1 and 2 but we need to update the probability p of going to the upper mode. Indeed, we want that $\\left(1-\\frac{1}{n}\\right) \\times p = \\frac{1}{n}$ so that $p \\neq \\frac{1}{n}$ and $p = \\frac{1}{n}\\left(1-\\frac{1}{n}\\right)^{-1} = \\frac{1}{n}\\frac{n}{n-1} = \\frac{1}{n-1}$. On we continue this scheme until we added n-1 beam splitters."
   ]
  },
  {
   "cell_type": "markdown",
   "metadata": {},
   "source": [
    "Let's do an example with $n=5$"
   ]
  },
  {
   "cell_type": "code",
   "execution_count": 40,
   "metadata": {},
   "outputs": [
    {
     "data": {
      "image/svg+xml": "<?xml version=\"1.0\" encoding=\"UTF-8\"?>\n<svg xmlns=\"http://www.w3.org/2000/svg\" xmlns:xlink=\"http://www.w3.org/1999/xlink\"\n     width=\"687.5\" height=\"375.0\" viewBox=\"-28.0 0 550 300\">\n<defs>\n</defs>\n<path d=\"M10,25 L25,25\" stroke-width=\"1\" stroke=\"black\" stroke-linejoin=\"miter\" fill=\"none\" />\n<path d=\"M10,75 L25,75\" stroke-width=\"1\" stroke=\"black\" stroke-linejoin=\"miter\" fill=\"none\" />\n<path d=\"M10,125 L25,125\" stroke-width=\"1\" stroke=\"black\" stroke-linejoin=\"miter\" fill=\"none\" />\n<path d=\"M10,175 L25,175\" stroke-width=\"1\" stroke=\"black\" stroke-linejoin=\"miter\" fill=\"none\" />\n<path d=\"M10,225 L25,225\" stroke-width=\"1\" stroke=\"black\" stroke-linejoin=\"miter\" fill=\"none\" />\n<path d=\"M37.9442,25.0002 C51.653800000000004,25.0002,51.5923,50.0,65.3019,50.0 M65.3038,50.0 C51.59219999999999,50.0,51.6538,74.9998,37.94409999999999,74.9998 M65.3038,49.99999999999999 L87.1884,49.99999999999999 M87.1884,49.99999999999999 C100.9,49.99999999999999,100.83840000000001,25.000199999999992,114.5481,25.000199999999992 M87.1884,49.99999999999999 C100.9,49.99999999999999,100.83840000000001,74.9998,114.5481,74.9998 M25.0,24.999999999999993 L38.0,24.999999999999993 M38.0019,74.9998 L25.0,74.9998 M112.6453,74.9998 L125.0,74.9998 M112.1944,24.999799999999993 L125.0,24.999799999999993\" stroke-width=\"1\" stroke=\"black\" stroke-linejoin=\"miter\" fill=\"none\" />\n<text x=\"75\" y=\"38\" font-size=\"7\" text-anchor=\"middle\" dy=\"0em\">Θ=2.214297</text>\n<path d=\"M97,53 L107,53 L107,63 L97,63 Z\" stroke=\"black\" fill=\"thistle\" stroke-linejoin=\"miter\" />\n<text x=\"102\" y=\"60\" font-size=\"6\" text-anchor=\"middle\" dy=\"0em\">Rx</text>\n<path d=\"M25,125 L125,125\" stroke=\"black\" stroke-width=\"1\" fill=\"none\" />\n<path d=\"M137.9442,75.0002 C151.6538,75.0002,151.5923,100.0,165.3019,100.0 M165.3038,100.0 C151.5922,100.0,151.6538,124.9998,137.9441,124.9998 M165.3038,100.0 L187.1884,100.0 M187.1884,100.0 C200.9,100.0,200.8384,75.0002,214.5481,75.0002 M187.1884,100.0 C200.9,100.0,200.8384,124.9998,214.5481,124.9998 M125.0,75.0 L138.0,75.0 M138.0019,124.9998 L125.0,124.9998 M212.64530000000002,124.9998 L225.0,124.9998 M212.1944,74.9998 L225.0,74.9998\" stroke-width=\"1\" stroke=\"black\" stroke-linejoin=\"miter\" fill=\"none\" />\n<text x=\"175\" y=\"88\" font-size=\"7\" text-anchor=\"middle\" dy=\"0em\">Θ=2*pi/3</text>\n<path d=\"M197,103 L207,103 L207,113 L197,113 Z\" stroke=\"black\" fill=\"thistle\" stroke-linejoin=\"miter\" />\n<text x=\"202\" y=\"110\" font-size=\"6\" text-anchor=\"middle\" dy=\"0em\">Rx</text>\n<path d=\"M25,175 L225,175\" stroke=\"black\" stroke-width=\"1\" fill=\"none\" />\n<path d=\"M237.9442,125.0002 C251.6538,125.0002,251.5923,150.0,265.3019,150.0 M265.30379999999997,150.0 C251.59219999999996,150.0,251.65379999999996,174.9998,237.94409999999996,174.9998 M265.30379999999997,150.0 L287.18839999999994,150.0 M287.18839999999994,150.0 C300.9,150.0,300.8384,125.0002,314.5481,125.0002 M287.1884,150.0 C300.9,150.0,300.8384,174.9998,314.5481,174.9998 M224.99999999999997,125.0 L237.99999999999997,125.0 M238.00189999999998,174.9998 L224.99999999999997,174.9998 M312.64529999999996,174.9998 L324.99999999999994,174.9998 M312.1944,124.9998 L325.0,124.9998\" stroke-width=\"1\" stroke=\"black\" stroke-linejoin=\"miter\" fill=\"none\" />\n<text x=\"275\" y=\"138\" font-size=\"7\" text-anchor=\"middle\" dy=\"0em\">Θ=1.910633</text>\n<path d=\"M297,153 L307,153 L307,163 L297,163 Z\" stroke=\"black\" fill=\"thistle\" stroke-linejoin=\"miter\" />\n<text x=\"302\" y=\"160\" font-size=\"6\" text-anchor=\"middle\" dy=\"0em\">Rx</text>\n<path d=\"M25,225 L325,225\" stroke=\"black\" stroke-width=\"1\" fill=\"none\" />\n<path d=\"M337.9442,175.0002 C351.65380000000005,175.0002,351.5923,200.0,365.30190000000005,200.0 M365.3038,200.0 C351.59220000000005,200.0,351.65380000000005,224.9998,337.94410000000005,224.9998 M365.3038,200.0 L387.1884,200.0 M387.1884,200.0 C400.9,200.0,400.8384,175.0002,414.5481,175.0002 M387.1884,200.0 C400.9,200.0,400.8384,224.9998,414.5481,224.9998 M325.0,175.0 L338.0,175.0 M338.0019,224.9998 L325.0,224.9998 M412.6453,224.9998 L425.0,224.9998 M412.1944,174.9998 L425.0,174.9998\" stroke-width=\"1\" stroke=\"black\" stroke-linejoin=\"miter\" fill=\"none\" />\n<text x=\"375\" y=\"188\" font-size=\"7\" text-anchor=\"middle\" dy=\"0em\"></text>\n<path d=\"M397,203 L407,203 L407,213 L397,213 Z\" stroke=\"black\" fill=\"thistle\" stroke-linejoin=\"miter\" />\n<text x=\"402\" y=\"210\" font-size=\"6\" text-anchor=\"middle\" dy=\"0em\">Rx</text>\n<path d=\"M125,25 L425,25\" stroke=\"black\" stroke-width=\"1\" fill=\"none\" />\n<path d=\"M225,75 L425,75\" stroke=\"black\" stroke-width=\"1\" fill=\"none\" />\n<path d=\"M325,125 L425,125\" stroke=\"black\" stroke-width=\"1\" fill=\"none\" />\n<path d=\"M425,25 L440,25\" stroke-width=\"1\" stroke=\"black\" stroke-linejoin=\"miter\" fill=\"none\" />\n<path d=\"M425,75 L440,75\" stroke-width=\"1\" stroke=\"black\" stroke-linejoin=\"miter\" fill=\"none\" />\n<path d=\"M425,125 L440,125\" stroke-width=\"1\" stroke=\"black\" stroke-linejoin=\"miter\" fill=\"none\" />\n<path d=\"M425,175 L440,175\" stroke-width=\"1\" stroke=\"black\" stroke-linejoin=\"miter\" fill=\"none\" />\n<path d=\"M425,225 L440,225\" stroke-width=\"1\" stroke=\"black\" stroke-linejoin=\"miter\" fill=\"none\" />\n<text x=\"450\" y=\"28\" font-size=\"6\" text-anchor=\"end\" dy=\"0em\">0</text>\n<text x=\"450\" y=\"78\" font-size=\"6\" text-anchor=\"end\" dy=\"0em\">1</text>\n<text x=\"450\" y=\"128\" font-size=\"6\" text-anchor=\"end\" dy=\"0em\">2</text>\n<text x=\"450\" y=\"178\" font-size=\"6\" text-anchor=\"end\" dy=\"0em\">3</text>\n<text x=\"450\" y=\"228\" font-size=\"6\" text-anchor=\"end\" dy=\"0em\">4</text>\n<text x=\"0\" y=\"28\" font-size=\"6\" text-anchor=\"start\" dy=\"0em\">0</text>\n<text x=\"0\" y=\"78\" font-size=\"6\" text-anchor=\"start\" dy=\"0em\">1</text>\n<text x=\"0\" y=\"128\" font-size=\"6\" text-anchor=\"start\" dy=\"0em\">2</text>\n<text x=\"0\" y=\"178\" font-size=\"6\" text-anchor=\"start\" dy=\"0em\">3</text>\n<text x=\"0\" y=\"228\" font-size=\"6\" text-anchor=\"start\" dy=\"0em\">4</text>\n</svg>",
      "text/plain": [
       "<drawSvg.drawing.Drawing at 0x7fb7f246e830>"
      ]
     },
     "execution_count": 40,
     "metadata": {},
     "output_type": "execute_result"
    }
   ],
   "source": [
    "circuit_sl = pcvl.Circuit(5)\n",
    "\n",
    "circuit_sl.add(0, BS(BS.r_to_theta(1/5)))\n",
    "circuit_sl.add(1, BS(BS.r_to_theta(1/4)))\n",
    "circuit_sl.add(2, BS(BS.r_to_theta(1/3)))\n",
    "circuit_sl.add(3, BS(BS.r_to_theta(1/2)))\n",
    "\n",
    "pcvl.pdisplay(circuit_sl)"
   ]
  },
  {
   "cell_type": "code",
   "execution_count": 42,
   "metadata": {},
   "outputs": [
    {
     "name": "stdout",
     "output_type": "stream",
     "text": [
      "{\n",
      "  |1,0,0,0,0>: 196\n",
      "  |0,1,0,0,0>: 186\n",
      "  |0,0,1,0,0>: 218\n",
      "  |0,0,0,1,0>: 206\n",
      "  |0,0,0,0,1>: 194\n",
      "}\n"
     ]
    }
   ],
   "source": [
    "p = pcvl.Processor(\"SLOS\", circuit_sl)\n",
    "p.with_input(pcvl.BasicState([1,0,0,0,0]))\n",
    "sampler = pcvl.algorithm.Sampler(p)\n",
    "sample_count = sampler.sample_count(1000)\n",
    "print(sample_count[\"results\"])"
   ]
  },
  {
   "cell_type": "markdown",
   "metadata": {},
   "source": [
    "Note that we can generate straight lines with the length we want, we might want to have some symmetry and exclusion zone as depicted on the drawing below.\n",
    "\n",
    "\n",
    "This can be done using the good permutation that is given by : \n"
   ]
  },
  {
   "cell_type": "markdown",
   "metadata": {},
   "source": [
    "## Drawing the Christmas tree"
   ]
  },
  {
   "cell_type": "markdown",
   "metadata": {},
   "source": [
    "First let's define two functions, one to draw one line of the diagonals elements and one to draw the horizontal lines."
   ]
  },
  {
   "cell_type": "code",
   "execution_count": 43,
   "metadata": {},
   "outputs": [],
   "source": [
    "def sampling_level_symmetric(level: int):\n",
    "    \"\"\"Draw two points at m - level and m + level\n",
    "    with probability 50%, 50%\n",
    "    \"\"\"\n",
    "    circuit = pcvl.Circuit(2 * M + 1)\n",
    "    if level > 0:\n",
    "        circuit.add(M, BS())\n",
    "        for i in range(0, level):\n",
    "            circuit.add(M - i - 1, PERM([1, 0]))\n",
    "            if i > 0:\n",
    "                circuit.add(M + i, PERM([1, 0]))\n",
    "\n",
    "    p = pcvl.Processor(\"SLOS\", circuit)\n",
    "    p.with_input(pcvl.BasicState([0] * M + [1] + [0] * M))\n",
    "    sampler = pcvl.algorithm.Sampler(p)\n",
    "    sample_count = sampler.sample_count(N)\n",
    "    return sample_count[\"results\"]"
   ]
  },
  {
   "cell_type": "code",
   "execution_count": 44,
   "metadata": {},
   "outputs": [],
   "source": [
    "def sampling_level_line(l: int, excl: int):\n",
    "    \"\"\"Draw two lines, each of them of length l,\n",
    "    exluced by a region of 2*excl-1 in the the center\n",
    "\n",
    "    l=2\n",
    "    excl=2\n",
    "    m=5\n",
    "\n",
    "    ###**###**###\n",
    "\n",
    "    with probability 1/(2*l)\n",
    "    \"\"\"\n",
    "\n",
    "    # First draw a line from spatial mode 0 to spatial mode 2*l\n",
    "    L = 2 * l + (2 * excl - 1)\n",
    "    offset = (2 * M + 1 - L) // 2\n",
    "\n",
    "    circuit = pcvl.Circuit(2 * M + 1)\n",
    "    for i in range(2 * l):\n",
    "        circuit.add(i, BS(BS.r_to_theta(1 / (2 * l - i))))\n",
    "\n",
    "    # Use a nice permutation to get the good result\n",
    "    perm = (\n",
    "        [offset + i for i in range(l)]\n",
    "        + [offset + l + (2 * excl - 1) + i for i in range(l)]\n",
    "        + [i for i in range(offset)]\n",
    "        + [offset + l + i for i in range(2 * excl - 1)]\n",
    "    )\n",
    "    circuit.add(0, PERM(perm))\n",
    "\n",
    "    p = pcvl.Processor(\"SLOS\", circuit)\n",
    "    p.with_input(pcvl.BasicState([1] + [0] * 2 * M))\n",
    "    sampler = pcvl.algorithm.Sampler(p)\n",
    "    sample_count = sampler.sample_count(N)\n",
    "    return sample_count[\"results\"]"
   ]
  },
  {
   "cell_type": "markdown",
   "metadata": {},
   "source": [
    "Now let's define the number of modes with need, the numbers of sampling we are doing and the tree aesthetics."
   ]
  },
  {
   "cell_type": "code",
   "execution_count": 45,
   "metadata": {},
   "outputs": [],
   "source": [
    "# Circuit definitions\n",
    "\n",
    "M = 25  # Number of modes : 2*m+1\n",
    "N = 10000  # Number of samples\n",
    "\n",
    "# Tree aesthetics\n",
    "\n",
    "HEIGHT_FIRST_CONE = 15\n",
    "WIDTH_FIRST_CONE = 5\n",
    "\n",
    "HEIGHT_SECOND_CONE = 22\n",
    "WIDTH_SECOND_CONE = 10\n",
    "\n",
    "HEIGHT_THIRD_CONE = 26\n",
    "WIDTH_THIRD_CONE = 4\n",
    "\n",
    "WIDTH_BOTTOM = 6\n",
    "\n",
    "HEIGHT_BOTTOM = 5\n",
    "\n",
    "NUM_LINES = (\n",
    "    HEIGHT_FIRST_CONE\n",
    "    + HEIGHT_SECOND_CONE\n",
    "    + HEIGHT_THIRD_CONE\n",
    "    + HEIGHT_BOTTOM\n",
    "    - WIDTH_FIRST_CONE\n",
    "    - WIDTH_SECOND_CONE\n",
    "    + 4\n",
    ")"
   ]
  },
  {
   "cell_type": "code",
   "execution_count": 47,
   "metadata": {},
   "outputs": [],
   "source": [
    "l = 0\n",
    "matrix = np.zeros((NUM_LINES, 2 * M + 1))\n",
    "for level in range(HEIGHT_FIRST_CONE):\n",
    "    update_matrix(matrix, sampling_level_symmetric(level),l)\n",
    "    l += 1\n",
    "\n",
    "update_matrix(\n",
    "    matrix,\n",
    "    sampling_level_line(HEIGHT_FIRST_CONE - WIDTH_FIRST_CONE, WIDTH_FIRST_CONE),l\n",
    ")\n",
    "l += 1\n",
    "\n",
    "for level in range(WIDTH_FIRST_CONE, HEIGHT_SECOND_CONE):\n",
    "    update_matrix(matrix, sampling_level_symmetric(level),l)\n",
    "    l += 1\n",
    "\n",
    "update_matrix(\n",
    "    matrix,\n",
    "    sampling_level_line(HEIGHT_SECOND_CONE - WIDTH_SECOND_CONE, WIDTH_SECOND_CONE),l\n",
    ")\n",
    "l += 1\n",
    "\n",
    "for level in range(WIDTH_SECOND_CONE, HEIGHT_THIRD_CONE):\n",
    "    update_matrix(matrix, sampling_level_symmetric(level),l)\n",
    "    l += 1\n",
    "\n",
    "update_matrix(\n",
    "    matrix, sampling_level_line(HEIGHT_THIRD_CONE - WIDTH_THIRD_CONE, WIDTH_THIRD_CONE),l\n",
    ")\n",
    "l += 1\n",
    "\n",
    "\n",
    "for _ in range(HEIGHT_BOTTOM):\n",
    "    update_matrix(matrix, sampling_level_symmetric(WIDTH_THIRD_CONE),l)\n",
    "    l += 1\n",
    "\n",
    "update_matrix(matrix, sampling_level_line(WIDTH_THIRD_CONE, 1),l)"
   ]
  },
  {
   "cell_type": "code",
   "execution_count": 48,
   "metadata": {},
   "outputs": [
    {
     "data": {
      "image/png": "[encoded data removed]",
      "text/plain": [
       "<Figure size 640x480 with 2 Axes>"
      ]
     },
     "metadata": {},
     "output_type": "display_data"
    }
   ],
   "source": [
    "plt.figure()\n",
    "plt.imshow(\n",
    "    10 * np.log10(1 + np.log10(1 + matrix)), cmap=\"Greens\", interpolation=\"nearest\"\n",
    ")\n",
    "plt.xlabel(\"Probability of each spatial mode\")\n",
    "plt.ylabel(\"Circuit\")\n",
    "plt.title(\"Joyeux Noël FedeRez !\")\n",
    "plt.colorbar()\n",
    "plt.show()\n"
   ]
  },
  {
   "cell_type": "markdown",
   "metadata": {},
   "source": [
    "Et voilà !"
   ]
  }
 ],
 "metadata": {
  "kernelspec": {
   "display_name": "Python 3.10.8 64-bit",
   "language": "python",
   "name": "python3"
  },
  "language_info": {
   "codemirror_mode": {
    "name": "ipython",
    "version": 3
   },
   "file_extension": ".py",
   "mimetype": "text/x-python",
   "name": "python",
   "nbconvert_exporter": "python",
   "pygments_lexer": "ipython3",
   "version": "3.10.8"
  },
  "orig_nbformat": 4,
  "vscode": {
   "interpreter": {
    "hash": "e7370f93d1d0cde622a1f8e1c04877d8463912d04d973331ad4851f04de6915a"
   }
  }
 },
 "nbformat": 4,
 "nbformat_minor": 2
}
